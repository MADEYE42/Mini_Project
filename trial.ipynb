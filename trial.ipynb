{
 "cells": [
  {
   "cell_type": "code",
   "execution_count": 1,
   "metadata": {},
   "outputs": [
    {
     "ename": "ModuleNotFoundError",
     "evalue": "No module named 'cv2'",
     "output_type": "error",
     "traceback": [
      "\u001b[1;31m---------------------------------------------------------------------------\u001b[0m",
      "\u001b[1;31mModuleNotFoundError\u001b[0m                       Traceback (most recent call last)",
      "Cell \u001b[1;32mIn[1], line 2\u001b[0m\n\u001b[0;32m      1\u001b[0m \u001b[38;5;28;01mimport\u001b[39;00m \u001b[38;5;21;01mos\u001b[39;00m\n\u001b[1;32m----> 2\u001b[0m \u001b[38;5;28;01mimport\u001b[39;00m \u001b[38;5;21;01mcv2\u001b[39;00m\n\u001b[0;32m      3\u001b[0m \u001b[38;5;28;01mimport\u001b[39;00m \u001b[38;5;21;01mnumpy\u001b[39;00m \u001b[38;5;28;01mas\u001b[39;00m \u001b[38;5;21;01mnp\u001b[39;00m\n\u001b[0;32m      4\u001b[0m \u001b[38;5;28;01mimport\u001b[39;00m \u001b[38;5;21;01mmatplotlib\u001b[39;00m\u001b[38;5;21;01m.\u001b[39;00m\u001b[38;5;21;01mpyplot\u001b[39;00m \u001b[38;5;28;01mas\u001b[39;00m \u001b[38;5;21;01mplt\u001b[39;00m\n",
      "\u001b[1;31mModuleNotFoundError\u001b[0m: No module named 'cv2'"
     ]
    }
   ],
   "source": [
    "import os\n",
    "import cv2\n",
    "import numpy as np\n",
    "import matplotlib.pyplot as plt\n",
    "\n",
    "# Input and output folder paths\n",
    "input_folder = r'C:\\Users\\Vivek\\Downloads\\FETAL_PLANES_ZENODO\\Images'\n",
    "output_folder = r'C:\\Users\\Vivek\\Downloads\\FETAL_PLANES_ZENODO\\Images\\02.Enhancement and Segmentation'\n",
    "\n",
    "# Ensure the output folder exists\n",
    "os.makedirs(output_folder, exist_ok=True)\n",
    "counter=0\n",
    "# Process each image in the input folder\n",
    "for filename in os.listdir(input_folder):\n",
    "    counter=counter+1\n",
    "    print(counter)\n",
    "    # Read the image as grayscale\n",
    "    img_path = os.path.join(input_folder, filename)\n",
    "    img = cv2.imread(img_path, 0)\n",
    "    # Add this check before processing the image\n",
    "    if not os.path.isfile(img_path):\n",
    "        print(f\"Error: Image file not found - {img_path}\")\n",
    "        continue  # Skip to the next iteration\n",
    "\n",
    "\n",
    "    # Apply histogram equalization to enhance contrast\n",
    "    equalized_img = cv2.equalizeHist(img)\n",
    "\n",
    "    # Apply median blur for noise reduction\n",
    "    median_blur = cv2.medianBlur(equalized_img, 5)\n",
    "\n",
    "    # Thresholding to create a binary mask of the cranium and brain\n",
    "    _, cranium_brain_mask = cv2.threshold(median_blur, 180, 255, cv2.THRESH_BINARY)\n",
    "\n",
    "    # Find contours in the mask\n",
    "    contours, _ = cv2.findContours(cranium_brain_mask, cv2.RETR_EXTERNAL, cv2.CHAIN_APPROX_SIMPLE)\n",
    "\n",
    "    # Find the contour with the largest area\n",
    "    max_contour = max(contours, key=cv2.contourArea)\n",
    "\n",
    "    # Create a blank mask image\n",
    "    mask_image = np.zeros_like(img)\n",
    "\n",
    "    # Draw the largest contour on the mask\n",
    "    cv2.drawContours(mask_image, [max_contour], -1, (255), thickness=cv2.FILLED)\n",
    "\n",
    "    # Create a circular mask centered at the image center\n",
    "    center_x = img.shape[1] // 2\n",
    "    center_y = img.shape[0] // 2\n",
    "    radius = int(min(img.shape) * 0.4)  # Adjust the radius as needed\n",
    "    cv2.circle(mask_image, (center_x, center_y), radius, (255), thickness=cv2.FILLED)\n",
    "\n",
    "    # Apply the mask to the original image\n",
    "    output_image = cv2.bitwise_and(img, mask_image)\n",
    "\n",
    "    # Find the bounding box of the largest contour\n",
    "    x, y, w, h = cv2.boundingRect(max_contour)\n",
    "\n",
    "    # Add padding to the bounding box\n",
    "    padding = 20  # Adjust the padding size as needed\n",
    "    x -= padding\n",
    "    y -= padding\n",
    "    w += 2 * padding\n",
    "    h += 2 * padding\n",
    "\n",
    "    # Ensure the bounding box is within the image boundaries\n",
    "    x = max(0, x)\n",
    "    y = max(0, y)\n",
    "    w = min(w, img.shape[1] - x)\n",
    "    h = min(h, img.shape[0] - y)\n",
    "\n",
    "    # Crop the output image to the bounding box region\n",
    "    output_image = output_image[y:y+h, x:x+w]\n",
    "\n",
    "    # Enhance the output image\n",
    "    enhanced_image = cv2.equalizeHist(output_image)\n",
    "\n",
    "    # Save the enhanced output image\n",
    "    output_path = os.path.join(output_folder, filename)\n",
    "    cv2.imwrite(output_path, enhanced_image)\n",
    "\n",
    "    \n",
    "\n",
    "print(\"Processing completed.\")"
   ]
  },
  {
   "cell_type": "code",
   "execution_count": null,
   "metadata": {},
   "outputs": [
    {
     "data": {
      "text/html": [
       "<div>\n",
       "<style scoped>\n",
       "    .dataframe tbody tr th:only-of-type {\n",
       "        vertical-align: middle;\n",
       "    }\n",
       "\n",
       "    .dataframe tbody tr th {\n",
       "        vertical-align: top;\n",
       "    }\n",
       "\n",
       "    .dataframe thead th {\n",
       "        text-align: right;\n",
       "    }\n",
       "</style>\n",
       "<table border=\"1\" class=\"dataframe\">\n",
       "  <thead>\n",
       "    <tr style=\"text-align: right;\">\n",
       "      <th></th>\n",
       "      <th>Image_name</th>\n",
       "      <th>Patient_num</th>\n",
       "      <th>Plane</th>\n",
       "      <th>Brain_plane</th>\n",
       "      <th>Train</th>\n",
       "    </tr>\n",
       "  </thead>\n",
       "  <tbody>\n",
       "    <tr>\n",
       "      <th>0</th>\n",
       "      <td>Patient00001_Plane1_1_of_15</td>\n",
       "      <td>1</td>\n",
       "      <td>Other</td>\n",
       "      <td>Not A Brain</td>\n",
       "      <td>1</td>\n",
       "    </tr>\n",
       "    <tr>\n",
       "      <th>1</th>\n",
       "      <td>Patient00001_Plane1_2_of_15</td>\n",
       "      <td>1</td>\n",
       "      <td>Other</td>\n",
       "      <td>Not A Brain</td>\n",
       "      <td>1</td>\n",
       "    </tr>\n",
       "    <tr>\n",
       "      <th>2</th>\n",
       "      <td>Patient00001_Plane1_3_of_15</td>\n",
       "      <td>1</td>\n",
       "      <td>Other</td>\n",
       "      <td>Not A Brain</td>\n",
       "      <td>1</td>\n",
       "    </tr>\n",
       "    <tr>\n",
       "      <th>3</th>\n",
       "      <td>Patient00001_Plane1_4_of_15</td>\n",
       "      <td>1</td>\n",
       "      <td>Other</td>\n",
       "      <td>Not A Brain</td>\n",
       "      <td>1</td>\n",
       "    </tr>\n",
       "    <tr>\n",
       "      <th>4</th>\n",
       "      <td>Patient00001_Plane1_5_of_15</td>\n",
       "      <td>1</td>\n",
       "      <td>Other</td>\n",
       "      <td>Not A Brain</td>\n",
       "      <td>1</td>\n",
       "    </tr>\n",
       "    <tr>\n",
       "      <th>...</th>\n",
       "      <td>...</td>\n",
       "      <td>...</td>\n",
       "      <td>...</td>\n",
       "      <td>...</td>\n",
       "      <td>...</td>\n",
       "    </tr>\n",
       "    <tr>\n",
       "      <th>12395</th>\n",
       "      <td>Patient01791_Plane5_1_of_1</td>\n",
       "      <td>1791</td>\n",
       "      <td>Fetal femur</td>\n",
       "      <td>Not A Brain</td>\n",
       "      <td>0</td>\n",
       "    </tr>\n",
       "    <tr>\n",
       "      <th>12396</th>\n",
       "      <td>Patient01792_Plane2_1_of_1</td>\n",
       "      <td>1792</td>\n",
       "      <td>Fetal abdomen</td>\n",
       "      <td>Not A Brain</td>\n",
       "      <td>0</td>\n",
       "    </tr>\n",
       "    <tr>\n",
       "      <th>12397</th>\n",
       "      <td>Patient01792_Plane3_1_of_1</td>\n",
       "      <td>1792</td>\n",
       "      <td>Fetal brain</td>\n",
       "      <td>Trans-thalamic</td>\n",
       "      <td>0</td>\n",
       "    </tr>\n",
       "    <tr>\n",
       "      <th>12398</th>\n",
       "      <td>Patient01792_Plane5_1_of_1</td>\n",
       "      <td>1792</td>\n",
       "      <td>Fetal femur</td>\n",
       "      <td>Not A Brain</td>\n",
       "      <td>0</td>\n",
       "    </tr>\n",
       "    <tr>\n",
       "      <th>12399</th>\n",
       "      <td>Patient01792_Plane6_1_of_1</td>\n",
       "      <td>1792</td>\n",
       "      <td>Fetal thorax</td>\n",
       "      <td>Not A Brain</td>\n",
       "      <td>0</td>\n",
       "    </tr>\n",
       "  </tbody>\n",
       "</table>\n",
       "<p>12400 rows × 5 columns</p>\n",
       "</div>"
      ],
      "text/plain": [
       "                        Image_name  Patient_num          Plane  \\\n",
       "0      Patient00001_Plane1_1_of_15            1          Other   \n",
       "1      Patient00001_Plane1_2_of_15            1          Other   \n",
       "2      Patient00001_Plane1_3_of_15            1          Other   \n",
       "3      Patient00001_Plane1_4_of_15            1          Other   \n",
       "4      Patient00001_Plane1_5_of_15            1          Other   \n",
       "...                            ...          ...            ...   \n",
       "12395   Patient01791_Plane5_1_of_1         1791    Fetal femur   \n",
       "12396   Patient01792_Plane2_1_of_1         1792  Fetal abdomen   \n",
       "12397   Patient01792_Plane3_1_of_1         1792    Fetal brain   \n",
       "12398   Patient01792_Plane5_1_of_1         1792    Fetal femur   \n",
       "12399   Patient01792_Plane6_1_of_1         1792   Fetal thorax   \n",
       "\n",
       "          Brain_plane  Train   \n",
       "0         Not A Brain       1  \n",
       "1         Not A Brain       1  \n",
       "2         Not A Brain       1  \n",
       "3         Not A Brain       1  \n",
       "4         Not A Brain       1  \n",
       "...               ...     ...  \n",
       "12395     Not A Brain       0  \n",
       "12396     Not A Brain       0  \n",
       "12397  Trans-thalamic       0  \n",
       "12398     Not A Brain       0  \n",
       "12399     Not A Brain       0  \n",
       "\n",
       "[12400 rows x 5 columns]"
      ]
     },
     "execution_count": 9,
     "metadata": {},
     "output_type": "execute_result"
    }
   ],
   "source": [
    "dataset_folder = r'C:\\Users\\Vinay Venkatachalam\\Downloads\\fetal-brain-ultrasound-deep-learning-main\\fetal-brain-ultrasound-deep-learning-main\\FETAL_PLANES_ZENODO\\02.Enhancement and Segmentation'\n",
    "import pandas as pd\n",
    "\n",
    "# Path to the Excel file\n",
    "excel_file = r'C:\\Users\\Vinay Venkatachalam\\Downloads\\fetal-brain-ultrasound-deep-learning-main\\fetal-brain-ultrasound-deep-learning-main\\FETAL_PLANES_ZENODO\\FETAL_PLANES_DB_data.xlsx'\n",
    "\n",
    "# Read the Excel file into a DataFrame\n",
    "df = pd.read_excel(excel_file)\n",
    "df[['Image_name'\t,'Patient_num'\t, 'Plane'\t,'Brain_plane',\t'Train ']]\n"
   ]
  },
  {
   "cell_type": "code",
   "execution_count": null,
   "metadata": {},
   "outputs": [
    {
     "name": "stderr",
     "output_type": "stream",
     "text": [
      "C:\\Users\\Vivek\\AppData\\Local\\Temp\\ipykernel_2336\\3806287687.py:1: DeprecationWarning: \n",
      "Pyarrow will become a required dependency of pandas in the next major release of pandas (pandas 3.0),\n",
      "(to allow more performant data types, such as the Arrow string type, and better interoperability with other libraries)\n",
      "but was not found to be installed on your system.\n",
      "If this would cause problems for you,\n",
      "please provide us feedback at https://github.com/pandas-dev/pandas/issues/54466\n",
      "        \n",
      "  import pandas as pd\n"
     ]
    },
    {
     "name": "stdout",
     "output_type": "stream",
     "text": [
      "WARNING:tensorflow:From c:\\Users\\Vivek\\AppData\\Local\\Programs\\Python\\Python311\\Lib\\site-packages\\keras\\src\\losses.py:2976: The name tf.losses.sparse_softmax_cross_entropy is deprecated. Please use tf.compat.v1.losses.sparse_softmax_cross_entropy instead.\n",
      "\n",
      "PART 1 DONE\n",
      "PART 2 DONE\n",
      "PART 3 DONE\n",
      "WARNING:tensorflow:From c:\\Users\\Vivek\\AppData\\Local\\Programs\\Python\\Python311\\Lib\\site-packages\\keras\\src\\backend.py:873: The name tf.get_default_graph is deprecated. Please use tf.compat.v1.get_default_graph instead.\n",
      "\n",
      "WARNING:tensorflow:From c:\\Users\\Vivek\\AppData\\Local\\Programs\\Python\\Python311\\Lib\\site-packages\\keras\\src\\layers\\pooling\\max_pooling2d.py:161: The name tf.nn.max_pool is deprecated. Please use tf.nn.max_pool2d instead.\n",
      "\n",
      "WARNING:tensorflow:From c:\\Users\\Vivek\\AppData\\Local\\Programs\\Python\\Python311\\Lib\\site-packages\\keras\\src\\optimizers\\__init__.py:309: The name tf.train.Optimizer is deprecated. Please use tf.compat.v1.train.Optimizer instead.\n",
      "\n",
      "PART 4 DONE\n",
      "Found 9920 validated image filenames belonging to 2 classes.\n",
      "Found 2480 validated image filenames belonging to 2 classes.\n",
      "PART 5 DONE\n",
      "Epoch 1/3\n",
      "WARNING:tensorflow:From c:\\Users\\Vivek\\AppData\\Local\\Programs\\Python\\Python311\\Lib\\site-packages\\keras\\src\\utils\\tf_utils.py:492: The name tf.ragged.RaggedTensorValue is deprecated. Please use tf.compat.v1.ragged.RaggedTensorValue instead.\n",
      "\n",
      "WARNING:tensorflow:From c:\\Users\\Vivek\\AppData\\Local\\Programs\\Python\\Python311\\Lib\\site-packages\\keras\\src\\engine\\base_layer_utils.py:384: The name tf.executing_eagerly_outside_functions is deprecated. Please use tf.compat.v1.executing_eagerly_outside_functions instead.\n",
      "\n",
      "310/310 [==============================] - 402s 1s/step - loss: 0.5856 - accuracy: 0.6640 - val_loss: 0.5277 - val_accuracy: 0.6992\n",
      "Epoch 2/3\n",
      "310/310 [==============================] - 330s 1s/step - loss: 0.4949 - accuracy: 0.7299 - val_loss: 0.4940 - val_accuracy: 0.7274\n",
      "Epoch 3/3\n",
      "310/310 [==============================] - 358s 1s/step - loss: 0.4382 - accuracy: 0.7740 - val_loss: 0.4863 - val_accuracy: 0.7448\n",
      "PART 6 DONE\n",
      "78/78 [==============================] - 30s 389ms/step - loss: 0.4863 - accuracy: 0.7448\n",
      "Test Accuracy: 0.7447580695152283\n"
     ]
    }
   ],
   "source": [
    "import pandas as pd\n",
    "import numpy as np\n",
    "import os\n",
    "from sklearn.model_selection import train_test_split\n",
    "from tensorflow.keras.preprocessing.image import ImageDataGenerator\n",
    "from tensorflow.keras.models import Sequential\n",
    "from tensorflow.keras.layers import Conv2D, MaxPooling2D, Flatten, Dense\n",
    "\n",
    "# Load the CSV file\n",
    "data = pd.read_excel(r'C:\\Users\\Vivek\\Downloads\\FETAL_PLANES_ZENODO\\FETAL_PLANES_DB_data.xlsx')\n",
    "\n",
    "# Prepare the data\n",
    "image_dir = r'C:\\Users\\Vivek\\Downloads\\FETAL_PLANES_ZENODO\\Images'\n",
    "data['Image_path'] = data['Image_name'].apply(lambda x: os.path.join(image_dir, x + '.png'))\n",
    "print(\"PART 1 DONE\")\n",
    "\n",
    "# Split data into training and testing sets\n",
    "X_train, X_test, y_train, y_test = train_test_split(data['Image_path'], data['Train '], test_size=0.2, random_state=42)\n",
    "print(\"PART 2 DONE\")\n",
    "\n",
    "# Convert labels to strings\n",
    "y_train = y_train.astype(str)\n",
    "y_test = y_test.astype(str)\n",
    "\n",
    "# Initialize ImageDataGenerator for data augmentation\n",
    "datagen = ImageDataGenerator(rescale=1./255)\n",
    "print(\"PART 3 DONE\")\n",
    "\n",
    "# Define the neural network model\n",
    "model = Sequential()\n",
    "model.add(Conv2D(32, (3, 3), activation='relu', input_shape=(150, 150, 3)))\n",
    "model.add(MaxPooling2D((2, 2)))\n",
    "model.add(Conv2D(64, (3, 3), activation='relu'))\n",
    "model.add(MaxPooling2D((2, 2)))\n",
    "model.add(Conv2D(128, (3, 3), activation='relu'))\n",
    "model.add(MaxPooling2D((2, 2)))\n",
    "model.add(Flatten())\n",
    "model.add(Dense(512, activation='relu'))\n",
    "model.add(Dense(1, activation='sigmoid'))\n",
    "\n",
    "# Compile the model\n",
    "model.compile(loss='binary_crossentropy', optimizer='adam', metrics=['accuracy'])\n",
    "print(\"PART 4 DONE\")\n",
    "\n",
    "# Create data generators for training and testing\n",
    "train_generator = datagen.flow_from_dataframe(dataframe=pd.DataFrame({'Image_path': X_train, 'Train': y_train}),\n",
    "                                              x_col='Image_path', y_col='Train', target_size=(150, 150),\n",
    "                                              batch_size=32, class_mode='binary')\n",
    "test_generator = datagen.flow_from_dataframe(dataframe=pd.DataFrame({'Image_path': X_test, 'Train': y_test}),\n",
    "                                             x_col='Image_path', y_col='Train', target_size=(150, 150),\n",
    "                                             batch_size=32, class_mode='binary')\n",
    "print(\"PART 5 DONE\")\n",
    "\n",
    "# Train the model\n",
    "model.fit(train_generator, epochs=3, validation_data=test_generator)\n",
    "print(\"PART 6 DONE\")\n",
    "\n",
    "# Evaluate the model\n",
    "loss, accuracy = model.evaluate(test_generator)\n",
    "print(\"Test Accuracy:\", accuracy)\n"
   ]
  },
  {
   "cell_type": "code",
   "execution_count": null,
   "metadata": {},
   "outputs": [],
   "source": [
    "import pandas as pd\n",
    "import numpy as np\n",
    "import os\n",
    "from sklearn.model_selection import train_test_split\n",
    "from tensorflow.keras.preprocessing.image import ImageDataGenerator\n",
    "from tensorflow.keras.models import Sequential\n",
    "from tensorflow.keras.layers import Conv2D, MaxPooling2D, Flatten, Dense\n",
    "from tensorflow.keras.preprocessing import image\n",
    "from tensorflow.keras.applications.vgg16 import VGG16, preprocess_input\n",
    "from flask import Flask, request, jsonify\n",
    "\n",
    "app = Flask(__name__)\n",
    "\n",
    "# Load the CSV file\n",
    "data = pd.read_excel(r'C:\\Users\\Vivek\\Downloads\\FETAL_PLANES_ZENODO\\FETAL_PLANES_DB_data.xlsx')\n",
    "\n",
    "# Prepare the data\n",
    "image_dir = r'C:\\Users\\Vivek\\Downloads\\FETAL_PLANES_ZENODO\\Images'\n",
    "data['Image_path'] = data['Image_name'].apply(lambda x: os.path.join(image_dir, x + '.png'))\n",
    "\n",
    "# Split data into training and testing sets\n",
    "X_train, X_test, y_train, y_test = train_test_split(data['Image_path'], data['Train '], test_size=0.2, random_state=42)\n",
    "\n",
    "# Convert labels to strings\n",
    "y_train = y_train.astype(str)\n",
    "y_test = y_test.astype(str)\n",
    "\n",
    "# Initialize ImageDataGenerator for data augmentation\n",
    "datagen = ImageDataGenerator(rescale=1./255)\n",
    "\n",
    "# Define the neural network model\n",
    "model = Sequential()\n",
    "model.add(Conv2D(32, (3, 3), activation='relu', input_shape=(150, 150, 3)))\n",
    "model.add(MaxPooling2D((2, 2)))\n",
    "model.add(Conv2D(64, (3, 3), activation='relu'))\n",
    "model.add(MaxPooling2D((2, 2)))\n",
    "model.add(Conv2D(128, (3, 3), activation='relu'))\n",
    "model.add(MaxPooling2D((2, 2)))\n",
    "model.add(Flatten())\n",
    "model.add(Dense(512, activation='relu'))\n",
    "model.add(Dense(1, activation='sigmoid'))\n",
    "\n",
    "# Compile the model\n",
    "model.compile(loss='binary_crossentropy', optimizer='adam', metrics=['accuracy'])\n",
    "\n",
    "# Create data generators for training and testing\n",
    "train_generator = datagen.flow_from_dataframe(dataframe=pd.DataFrame({'Image_path': X_train, 'Train': y_train}),\n",
    "                                              x_col='Image_path', y_col='Train', target_size=(150, 150),\n",
    "                                              batch_size=32, class_mode='binary')\n",
    "test_generator = datagen.flow_from_dataframe(dataframe=pd.DataFrame({'Image_path': X_test, 'Train': y_test}),\n",
    "                                             x_col='Image_path', y_col='Train', target_size=(150, 150),\n",
    "                                             batch_size=32, class_mode='binary')\n",
    "\n",
    "# Train the model\n",
    "model.fit(train_generator, epochs=3, validation_data=test_generator)\n",
    "\n",
    "# Define a function to preprocess the user's uploaded image\n",
    "def preprocess_image(image_path):\n",
    "    img = image.load_img(image_path, target_size=(150, 150))\n",
    "    img_array = image.img_to_array(img)\n",
    "    img_array = np.expand_dims(img_array, axis=0)\n",
    "    img_array = preprocess_input"
   ]
  },
  {
   "cell_type": "code",
   "execution_count": null,
   "metadata": {},
   "outputs": [
    {
     "name": "stdout",
     "output_type": "stream",
     "text": [
      "PART 1 DONE\n",
      "PART 2 DONE\n",
      "PART 3 DONE\n",
      "PART 4 DONE\n",
      "Found 8596 validated image filenames belonging to 2 classes.\n"
     ]
    },
    {
     "name": "stderr",
     "output_type": "stream",
     "text": [
      "c:\\Users\\Vivek\\AppData\\Local\\Programs\\Python\\Python311\\Lib\\site-packages\\keras\\src\\preprocessing\\image.py:1137: UserWarning: Found 1324 invalid image filename(s) in x_col=\"Image_path\". These filename(s) will be ignored.\n",
      "  warnings.warn(\n"
     ]
    },
    {
     "name": "stdout",
     "output_type": "stream",
     "text": [
      "Found 2126 validated image filenames belonging to 2 classes.\n"
     ]
    },
    {
     "name": "stderr",
     "output_type": "stream",
     "text": [
      "c:\\Users\\Vivek\\AppData\\Local\\Programs\\Python\\Python311\\Lib\\site-packages\\keras\\src\\preprocessing\\image.py:1137: UserWarning: Found 354 invalid image filename(s) in x_col=\"Image_path\". These filename(s) will be ignored.\n",
      "  warnings.warn(\n"
     ]
    },
    {
     "name": "stdout",
     "output_type": "stream",
     "text": [
      "PART 5 DONE\n",
      "Epoch 1/10\n",
      "269/269 [==============================] - 261s 957ms/step - loss: 0.7211 - accuracy: 0.5271 - val_loss: 0.6913 - val_accuracy: 0.5292\n",
      "Epoch 2/10\n",
      "269/269 [==============================] - 264s 982ms/step - loss: 0.6912 - accuracy: 0.5282 - val_loss: 0.6913 - val_accuracy: 0.5310\n",
      "Epoch 3/10\n",
      "269/269 [==============================] - 271s 1s/step - loss: 0.6910 - accuracy: 0.5352 - val_loss: 0.6893 - val_accuracy: 0.5329\n",
      "Epoch 4/10\n",
      "269/269 [==============================] - 264s 982ms/step - loss: 0.6901 - accuracy: 0.5339 - val_loss: 0.6890 - val_accuracy: 0.5395\n",
      "Epoch 5/10\n",
      "269/269 [==============================] - 272s 1s/step - loss: 0.6901 - accuracy: 0.5280 - val_loss: 0.6889 - val_accuracy: 0.5414\n",
      "Epoch 6/10\n",
      "269/269 [==============================] - 289s 1s/step - loss: 0.6895 - accuracy: 0.5370 - val_loss: 0.6881 - val_accuracy: 0.5353\n",
      "Epoch 7/10\n",
      "269/269 [==============================] - 285s 1s/step - loss: 0.6890 - accuracy: 0.5350 - val_loss: 0.6896 - val_accuracy: 0.5517\n",
      "Epoch 8/10\n",
      "269/269 [==============================] - 290s 1s/step - loss: 0.6893 - accuracy: 0.5369 - val_loss: 0.6907 - val_accuracy: 0.5249\n",
      "Epoch 9/10\n",
      "269/269 [==============================] - 273s 1s/step - loss: 0.6890 - accuracy: 0.5380 - val_loss: 0.6901 - val_accuracy: 0.5292\n",
      "Epoch 10/10\n",
      "269/269 [==============================] - 258s 960ms/step - loss: 0.6886 - accuracy: 0.5351 - val_loss: 0.6873 - val_accuracy: 0.5292\n",
      "PART 6 DONE\n",
      "67/67 [==============================] - 25s 368ms/step - loss: 0.6871 - accuracy: 0.5348\n",
      "Test Accuracy: 0.5348071455955505\n",
      "269/269 [==============================] - 100s 372ms/step - loss: 0.6864 - accuracy: 0.5500\n",
      "Train Accuracy: 0.5500232577323914\n"
     ]
    }
   ],
   "source": [
    "import pandas as pd\n",
    "import numpy as np\n",
    "import os\n",
    "from sklearn.model_selection import train_test_split\n",
    "from tensorflow.keras.preprocessing.image import ImageDataGenerator\n",
    "from tensorflow.keras.models import Sequential\n",
    "from tensorflow.keras.layers import Conv2D, MaxPooling2D, Flatten, Dense\n",
    "\n",
    "# Load the CSV file\n",
    "data = pd.read_excel(r'D:\\github-repos\\fetal-abnormality\\FETAL_PLANES_DB_data.xlsx')\n",
    "\n",
    "# Prepare the data\n",
    "image_dir = r'C:\\Users\\Vivek\\Downloads\\FETAL_PLANES_ZENODO\\Images\\02.Enhancement and Segmentation'\n",
    "data['Image_path'] = data['Image_name'].apply(lambda x: os.path.join(image_dir, x + '.png'))\n",
    "print(\"PART 1 DONE\")\n",
    "\n",
    "# Split data into training and testing sets\n",
    "X_train, X_test, y_train, y_test = train_test_split(data['Image_path'], data['Train '], test_size=0.2, random_state=42)\n",
    "print(\"PART 2 DONE\")\n",
    "\n",
    "# Convert labels to strings\n",
    "y_train = y_train.astype(str)\n",
    "y_test = y_test.astype(str)\n",
    "\n",
    "# Initialize ImageDataGenerator for data augmentation and preprocessing\n",
    "datagen = ImageDataGenerator(\n",
    "    rescale=1./255,  # rescale pixel values to [0,1]\n",
    "    rotation_range=20,  # rotate images randomly up to 20 degrees\n",
    "    width_shift_range=0.1,  # shift images horizontally by up to 10% of the width\n",
    "    height_shift_range=0.1,  # shift images vertically by up to 10% of the height\n",
    "    shear_range=0.1,  # shear transformation with maximum shear angle of 10%\n",
    "    zoom_range=0.1,  # zoom in or out by up to 10%\n",
    "    horizontal_flip=True,  # flip images horizontally\n",
    "    fill_mode='nearest'  # fill in newly created pixels after rotation or shifting\n",
    ")\n",
    "print(\"PART 3 DONE\")\n",
    "\n",
    "# Define the neural network model\n",
    "model = Sequential()\n",
    "model.add(Conv2D(32, (3, 3), activation='relu', input_shape=(150, 150, 3)))\n",
    "model.add(MaxPooling2D((2, 2)))\n",
    "model.add(Conv2D(64, (3, 3), activation='relu'))\n",
    "model.add(MaxPooling2D((2, 2)))\n",
    "model.add(Conv2D(128, (3, 3), activation='relu'))\n",
    "model.add(MaxPooling2D((2, 2)))\n",
    "model.add(Flatten())\n",
    "model.add(Dense(512, activation='relu'))\n",
    "model.add(Dense(1, activation='sigmoid'))\n",
    "\n",
    "# Compile the model\n",
    "model.compile(loss='binary_crossentropy', optimizer='adam', metrics=['accuracy'])\n",
    "print(\"PART 4 DONE\")\n",
    "\n",
    "# Create data generators for training and testing\n",
    "train_generator = datagen.flow_from_dataframe(dataframe=pd.DataFrame({'Image_path': X_train, 'Train': y_train}),\n",
    "                                              x_col='Image_path', y_col='Train', target_size=(150, 150),\n",
    "                                              batch_size=32, class_mode='binary')\n",
    "test_generator = datagen.flow_from_dataframe(dataframe=pd.DataFrame({'Image_path': X_test, 'Train': y_test}),\n",
    "                                             x_col='Image_path', y_col='Train', target_size=(150, 150),\n",
    "                                             batch_size=32, class_mode='binary')\n",
    "print(\"PART 5 DONE\")\n",
    "\n",
    "# Train the model\n",
    "model.fit(train_generator, epochs=10, validation_data=test_generator)\n",
    "print(\"PART 6 DONE\")\n",
    "\n",
    "# Evaluate the model\n",
    "loss, accuracy = model.evaluate(test_generator)\n",
    "print(\"Test Accuracy:\", accuracy)\n",
    "\n",
    "loss, accuracy = model.evaluate(train_generator)\n",
    "print(\"Train Accuracy:\",accuracy)"
   ]
  },
  {
   "cell_type": "code",
   "execution_count": null,
   "metadata": {},
   "outputs": [
    {
     "data": {
      "text/plain": [
       "'C:\\\\Users\\\\Vivek\\\\Downloads\\\\FETAL_PLANES_ZENODO\\\\Images\\\\Patient01694_Plane6_1_of_1.png'"
      ]
     },
     "execution_count": 2,
     "metadata": {},
     "output_type": "execute_result"
    }
   ],
   "source": [
    "X_test[11809]"
   ]
  },
  {
   "cell_type": "code",
   "execution_count": null,
   "metadata": {},
   "outputs": [
    {
     "data": {
      "text/plain": [
       "2316     1\n",
       "1121     1\n",
       "4560     1\n",
       "11809    0\n",
       "8664     0\n",
       "        ..\n",
       "1180     1\n",
       "6152     1\n",
       "1911     1\n",
       "8704     0\n",
       "8022     0\n",
       "Name: Train , Length: 2480, dtype: object"
      ]
     },
     "execution_count": 3,
     "metadata": {},
     "output_type": "execute_result"
    }
   ],
   "source": [
    "# TO save the model for future use:\n",
    "# model.save('fetal_brain_model.h5')\n",
    "y_test"
   ]
  },
  {
   "cell_type": "code",
   "execution_count": null,
   "metadata": {},
   "outputs": [
    {
     "name": "stderr",
     "output_type": "stream",
     "text": [
      "c:\\Users\\Vivek\\AppData\\Local\\Programs\\Python\\Python311\\Lib\\site-packages\\keras\\src\\engine\\training.py:3103: UserWarning: You are saving your model as an HDF5 file via `model.save()`. This file format is considered legacy. We recommend using instead the native Keras format, e.g. `model.save('my_model.keras')`.\n",
      "  saving_api.save_model(\n"
     ]
    }
   ],
   "source": [
    "# TO save the model for future use:\n",
    "model.save('fetal_brain_model_two.h5')"
   ]
  },
  {
   "cell_type": "code",
   "execution_count": null,
   "metadata": {},
   "outputs": [
    {
     "name": "stdout",
     "output_type": "stream",
     "text": [
      "WARNING:tensorflow:From c:\\Users\\Vivek\\AppData\\Local\\Programs\\Python\\Python311\\Lib\\site-packages\\keras\\src\\losses.py:2976: The name tf.losses.sparse_softmax_cross_entropy is deprecated. Please use tf.compat.v1.losses.sparse_softmax_cross_entropy instead.\n",
      "\n",
      "WARNING:tensorflow:From c:\\Users\\Vivek\\AppData\\Local\\Programs\\Python\\Python311\\Lib\\site-packages\\keras\\src\\backend.py:1398: The name tf.executing_eagerly_outside_functions is deprecated. Please use tf.compat.v1.executing_eagerly_outside_functions instead.\n",
      "\n",
      "WARNING:tensorflow:From c:\\Users\\Vivek\\AppData\\Local\\Programs\\Python\\Python311\\Lib\\site-packages\\keras\\src\\layers\\pooling\\max_pooling2d.py:161: The name tf.nn.max_pool is deprecated. Please use tf.nn.max_pool2d instead.\n",
      "\n"
     ]
    }
   ],
   "source": [
    "# To load the saved model later for predicting:\n",
    "from tensorflow.keras.models import load_model\n",
    "\n",
    "# Load the model\n",
    "loaded_model = load_model('fetal_brain_model_two.h5')\n"
   ]
  },
  {
   "cell_type": "code",
   "execution_count": null,
   "metadata": {},
   "outputs": [
    {
     "name": "stdout",
     "output_type": "stream",
     "text": [
      "['Patient01792_Plane2_1_of_1.png'] Patient01792_Plane2_1_of_1.png\n",
      "1/1 [==============================] - 0s 62ms/step\n",
      "Predicted Class: 0\n",
      "Unhealthy\n"
     ]
    }
   ],
   "source": [
    "# To Test another image:\n",
    "\n",
    "from tensorflow.keras.preprocessing import image\n",
    "import numpy as np\n",
    "import os\n",
    "\n",
    "# function to preprocess the image\n",
    "def preprocess_image(image_path):\n",
    "    img = image.load_img(image_path, target_size=(150, 150))\n",
    "    img_array = image.img_to_array(img)\n",
    "    img_array = np.expand_dims(img_array, axis=0)\n",
    "    return img_array\n",
    "\n",
    "files = os.listdir('uploads')\n",
    "print(files, files[0])\n",
    "\n",
    "path_of_image = rf'uploads\\{files[0]}'\n",
    "# Path to the image you want to test\n",
    "test_image_path = path_of_image\n",
    "\n",
    "# Preprocess the image\n",
    "processed_image = preprocess_image(test_image_path)\n",
    "\n",
    "# Make predictions\n",
    "prediction = loaded_model.predict(processed_image)\n",
    "\n",
    "# Convert the prediction to 0 or 1\n",
    "prediction_class = 1 if prediction > 0.5 else 0\n",
    "\n",
    "print(\"Predicted Class:\", prediction_class)\n",
    "if prediction_class == 0:\n",
    "    print(\"Unhealthy\")\n",
    "else:\n",
    "    print(\"Healthy\")\n",
    "os.remove(path_of_image)"
   ]
  },
  {
   "cell_type": "code",
   "execution_count": null,
   "metadata": {},
   "outputs": [],
   "source": [
    "# df = df[df['Brain_plane'] != \"NOT A BRAIN\"]"
   ]
  },
  {
   "cell_type": "code",
   "execution_count": null,
   "metadata": {},
   "outputs": [
    {
     "name": "stdout",
     "output_type": "stream",
     "text": [
      "78/78 [==============================] - 29s 370ms/step\n"
     ]
    },
    {
     "data": {
      "image/png": "[encoded data removed]",
      "text/plain": [
       "<Figure size 800x600 with 2 Axes>"
      ]
     },
     "metadata": {},
     "output_type": "display_data"
    }
   ],
   "source": [
    "from sklearn.metrics import confusion_matrix\n",
    "import matplotlib.pyplot as plt\n",
    "import seaborn as sns\n",
    "\n",
    "# Predict on the test set\n",
    "y_pred = loaded_model.predict(test_generator)\n",
    "y_pred_classes = (y_pred > 0.5).astype(\"int32\")\n",
    "\n",
    "# Calculate confusion matrix\n",
    "conf_matrix = confusion_matrix(test_generator.classes, y_pred_classes)\n",
    "\n",
    "# Plot confusion matrix\n",
    "plt.figure(figsize=(8, 6))\n",
    "sns.heatmap(conf_matrix, annot=True, fmt=\"d\", cmap=\"Blues\", \n",
    "            xticklabels=train_generator.class_indices, \n",
    "            yticklabels=train_generator.class_indices)\n",
    "plt.xlabel('Predicted labels')\n",
    "plt.ylabel('True labels')\n",
    "plt.title('Confusion Matrix')\n",
    "plt.show()\n"
   ]
  },
  {
   "cell_type": "code",
   "execution_count": null,
   "metadata": {},
   "outputs": [
    {
     "name": "stdout",
     "output_type": "stream",
     "text": [
      " * Serving Flask app '__main__'\n",
      " * Debug mode: on\n"
     ]
    },
    {
     "name": "stderr",
     "output_type": "stream",
     "text": [
      "WARNING: This is a development server. Do not use it in a production deployment. Use a production WSGI server instead.\n",
      " * Running on http://127.0.0.1:5000\n",
      "Press CTRL+C to quit\n",
      " * Restarting with stat\n"
     ]
    },
    {
     "ename": "SystemExit",
     "evalue": "1",
     "output_type": "error",
     "traceback": [
      "An exception has occurred, use %tb to see the full traceback.\n",
      "\u001b[1;31mSystemExit\u001b[0m\u001b[1;31m:\u001b[0m 1\n"
     ]
    }
   ],
   "source": []
  },
  {
   "cell_type": "code",
   "execution_count": null,
   "metadata": {},
   "outputs": [
    {
     "name": "stdout",
     "output_type": "stream",
     "text": [
      " * Serving Flask app '__main__'\n",
      " * Debug mode: on\n"
     ]
    },
    {
     "name": "stderr",
     "output_type": "stream",
     "text": [
      "WARNING: This is a development server. Do not use it in a production deployment. Use a production WSGI server instead.\n",
      " * Running on http://127.0.0.1:5000\n",
      "Press CTRL+C to quit\n",
      " * Restarting with stat\n"
     ]
    },
    {
     "ename": "SystemExit",
     "evalue": "1",
     "output_type": "error",
     "traceback": [
      "An exception has occurred, use %tb to see the full traceback.\n",
      "\u001b[1;31mSystemExit\u001b[0m\u001b[1;31m:\u001b[0m 1\n"
     ]
    }
   ],
   "source": []
  },
  {
   "cell_type": "code",
   "execution_count": null,
   "metadata": {},
   "outputs": [],
   "source": []
  }
 ],
 "metadata": {
  "kernelspec": {
   "display_name": "Python 3",
   "language": "python",
   "name": "python3"
  },
  "language_info": {
   "codemirror_mode": {
    "name": "ipython",
    "version": 3
   },
   "file_extension": ".py",
   "mimetype": "text/x-python",
   "name": "python",
   "nbconvert_exporter": "python",
   "pygments_lexer": "ipython3",
   "version": "3.11.5"
  }
 },
 "nbformat": 4,
 "nbformat_minor": 2
}
